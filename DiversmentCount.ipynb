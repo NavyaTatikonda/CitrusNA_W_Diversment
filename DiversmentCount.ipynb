{
 "cells": [
  {
   "cell_type": "code",
   "execution_count": 1,
   "metadata": {},
   "outputs": [],
   "source": [
    "import csv"
   ]
  },
  {
   "cell_type": "code",
   "execution_count": 2,
   "metadata": {},
   "outputs": [],
   "source": [
    "from itertools import islice"
   ]
  },
  {
   "cell_type": "code",
   "execution_count": 3,
   "metadata": {},
   "outputs": [],
   "source": [
    "import pandas as pd"
   ]
  },
  {
   "cell_type": "code",
   "execution_count": 4,
   "metadata": {},
   "outputs": [],
   "source": [
    "#Read csv\n",
    "df=pd.read_csv('C:\\Users\\Navya Tatikonda\\Desktop\\cleaned.csv')"
   ]
  },
  {
   "cell_type": "code",
   "execution_count": null,
   "metadata": {},
   "outputs": [],
   "source": [
    "start = int(input(\"Please enter the starting row: \"))"
   ]
  },
  {
   "cell_type": "code",
   "execution_count": null,
   "metadata": {},
   "outputs": [],
   "source": [
    "end = int(input(\"Please enter the ending row:\"))"
   ]
  },
  {
   "cell_type": "code",
   "execution_count": 7,
   "metadata": {},
   "outputs": [],
   "source": [
    "data_head=df.head(end)"
   ]
  },
  {
   "cell_type": "code",
   "execution_count": 8,
   "metadata": {},
   "outputs": [
    {
     "name": "stdout",
     "output_type": "stream",
     "text": [
      "   schol_id                                         University  \\\n",
      "0         1  Shanghai University of Traditional Chinese Med...   \n",
      "1         2     Changchun University of Science and Technology   \n",
      "2         3     Changchun University of Science and Technology   \n",
      "3         4     Changchun University of Science and Technology   \n",
      "\n",
      "                                               Major       Level Language  \\\n",
      "0                                Summer School (TCM)  Non-Degree  English   \n",
      "1  Preparatory Program of Humanities Direction(Pa...  Non-Degree  Chinese   \n",
      "2  Preparatory Program of Business Direction(Path A)  Non-Degree  Chinese   \n",
      "3  Preparatory Program of Science and Engineering...  Non-Degree  Chinese   \n",
      "\n",
      "   Tuition Covered  Accomodation covered?  Living Expense Covered?  \\\n",
      "0           7500.0                      0                        0   \n",
      "1          10000.0                      0                        0   \n",
      "2          10000.0                      0                        0   \n",
      "3          10000.0                      0                        0   \n",
      "\n",
      "   Tuition fees to pay  Original Tuition fee Start_Month  Start_Year  \\\n",
      "0                    0                7500.0         Jun        2020   \n",
      "1                10000               20000.0         Sep        2019   \n",
      "2                10000               20000.0         Sep        2019   \n",
      "3                10000               20000.0         Sep        2019   \n",
      "\n",
      "   Accomodation_To_Pay Accomodation_duration  Expense_To_Pay Expense_duration  \n",
      "0               9750.0                 MONTH          1000.0            MONTH  \n",
      "1               1500.0                 MONTH          1500.0            MONTH  \n",
      "2               1500.0                 MONTH          1500.0            MONTH  \n",
      "3               1500.0                 MONTH          1500.0            MONTH  \n"
     ]
    }
   ],
   "source": [
    "print(data_head)"
   ]
  },
  {
   "cell_type": "code",
   "execution_count": 23,
   "metadata": {},
   "outputs": [],
   "source": [
    "with open('C:\\Users\\Navya Tatikonda\\Desktop\\cleaned.csv') as fd:\n",
    "    reader=csv.reader(fd)\n",
    "    interestingrows=[row for idx, row in enumerate(reader) if idx in (start,end)]\n",
    "# now interestingrows contains the 28th and the 62th row after the header"
   ]
  },
  {
   "cell_type": "code",
   "execution_count": 24,
   "metadata": {},
   "outputs": [
    {
     "name": "stdout",
     "output_type": "stream",
     "text": [
      "[['2', 'Changchun University of Science and Technology', 'Preparatory Program of Humanities Direction(Path A)', 'Non-Degree', 'Chinese', '10000.0', '0', '0', '10000', '20000.0', 'Sep', '2019', '1500.0', 'MONTH', '1500.0', 'MONTH'], ['4', 'Changchun University of Science and Technology', 'Preparatory Program of Science and Engineering Direction(Path A)', 'Non-Degree', 'Chinese', '10000.0', '0', '0', '10000', '20000.0', 'Sep', '2019', '1500.0', 'MONTH', '1500.0', 'MONTH']]\n"
     ]
    }
   ],
   "source": [
    "print(interestingrows)"
   ]
  },
  {
   "cell_type": "code",
   "execution_count": 37,
   "metadata": {},
   "outputs": [],
   "source": [
    "file = open(\"C:\\Users\\Navya Tatikonda\\Desktop\\ebatch.txt\",\"w\") "
   ]
  },
  {
   "cell_type": "code",
   "execution_count": 38,
   "metadata": {},
   "outputs": [],
   "source": [
    "file.write('Hello')"
   ]
  },
  {
   "cell_type": "code",
   "execution_count": 39,
   "metadata": {},
   "outputs": [],
   "source": [
    "file.write('' + repr(interestingrows) + '\\n')"
   ]
  },
  {
   "cell_type": "code",
   "execution_count": 40,
   "metadata": {},
   "outputs": [],
   "source": [
    "file.close()"
   ]
  },
  {
   "cell_type": "code",
   "execution_count": null,
   "metadata": {},
   "outputs": [],
   "source": []
  }
 ],
 "metadata": {
  "kernelspec": {
   "display_name": "Python 2",
   "language": "python",
   "name": "python2"
  },
  "language_info": {
   "codemirror_mode": {
    "name": "ipython",
    "version": 2
   },
   "file_extension": ".py",
   "mimetype": "text/x-python",
   "name": "python",
   "nbconvert_exporter": "python",
   "pygments_lexer": "ipython2",
   "version": "2.7.15"
  }
 },
 "nbformat": 4,
 "nbformat_minor": 2
}
